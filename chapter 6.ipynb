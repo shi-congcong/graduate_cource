{
 "cells": [
  {
   "cell_type": "code",
   "execution_count": 1,
   "metadata": {},
   "outputs": [],
   "source": [
    "import scipy\n",
    "from scipy import optimize\n",
    "import cvxopt\n",
    "import matplotlib.pyplot as plt\n",
    "import numpy as np\n",
    "import sympy\n",
    "sympy.init_printing()"
   ]
  },
  {
   "cell_type": "code",
   "execution_count": 3,
   "metadata": {},
   "outputs": [
    {
     "data": {
      "image/png": "[encoded data removed]",
      "text/latex": [
       "$$\\frac{2^{\\frac{2}{3}}}{2 \\sqrt[3]{\\pi}}$$"
      ],
      "text/plain": [
       "   2/3 \n",
       "  2    \n",
       "───────\n",
       "  3 ___\n",
       "2⋅╲╱ π "
      ]
     },
     "execution_count": 3,
     "metadata": {},
     "output_type": "execute_result"
    }
   ],
   "source": [
    "r,h = sympy.symbols(\"r,h\")\n",
    "Area = 2*sympy.pi*r**2 + 2*sympy.pi*r*h\n",
    "Volume = sympy.pi*r**2*h\n",
    "h_r = sympy.solve(Volume-1)[0]\n",
    "Area_r = Area.subs(h_r)\n",
    "rsol = sympy.solve(Area_r.diff(r))[0]    #diff求导\n",
    "rsol"
   ]
  },
  {
   "cell_type": "code",
   "execution_count": 4,
   "metadata": {},
   "outputs": [
    {
     "data": {
      "image/png": "[encoded data removed]",
      "text/latex": [
       "$$0.541926070139289$$"
      ],
      "text/plain": [
       "0.541926070139289"
      ]
     },
     "execution_count": 4,
     "metadata": {},
     "output_type": "execute_result"
    }
   ],
   "source": [
    "_.evalf()    #表示将前面的公式数据化，进行估算"
   ]
  },
  {
   "cell_type": "code",
   "execution_count": 5,
   "metadata": {},
   "outputs": [
    {
     "data": {
      "image/png": "[encoded data removed]",
      "text/latex": [
       "$$0.541926077256$$"
      ],
      "text/plain": [
       "0.54192607725571351"
      ]
     },
     "execution_count": 5,
     "metadata": {},
     "output_type": "execute_result"
    }
   ],
   "source": [
    "def f(r):\n",
    "    return 2*np.pi*r**2 + 2/r\n",
    "r_min = optimize.brent(f,brack=(0.1,4))   #brack是一个区间\n",
    "r_min"
   ]
  },
  {
   "cell_type": "code",
   "execution_count": 6,
   "metadata": {},
   "outputs": [
    {
     "data": {
      "image/png": "[encoded data removed]",
      "text/latex": [
       "$$5.53581044593$$"
      ],
      "text/plain": [
       "5.5358104459320856"
      ]
     },
     "execution_count": 6,
     "metadata": {},
     "output_type": "execute_result"
    }
   ],
   "source": [
    "f(r_min)"
   ]
  },
  {
   "cell_type": "code",
   "execution_count": 10,
   "metadata": {},
   "outputs": [
    {
     "name": "stderr",
     "output_type": "stream",
     "text": [
      "/usr/local/lib/python3.6/dist-packages/ipykernel_launcher.py:2: RuntimeWarning: divide by zero encountered in true_divide\n",
      "  \n"
     ]
    },
    {
     "data": {
      "image/png": "[encoded data removed]",
      "text/latex": [
       "$$\\left ( 0, \\quad 200\\right )$$"
      ],
      "text/plain": [
       "(0, 200)"
      ]
     },
     "execution_count": 10,
     "metadata": {},
     "output_type": "execute_result"
    },
    {
     "data": {
      "image/png": "[encoded data removed]",
      "text/plain": [
       "<Figure size 432x288 with 1 Axes>"
      ]
     },
     "metadata": {
      "needs_background": "light"
     },
     "output_type": "display_data"
    }
   ],
   "source": [
    "x=np.arange(0.0,10.0,0.01)    \n",
    "y=f(x)\n",
    "plt.plot(x,y)     #画图的命令\n",
    "plt.axvline(r_min,color='red')    #plt.axvline将解标注出来\n",
    "plt.ylim(0,200)    #控制纵坐标的范围"
   ]
  },
  {
   "cell_type": "code",
   "execution_count": 9,
   "metadata": {},
   "outputs": [
    {
     "data": {
      "text/plain": [
       "     fun: 5.5358104459320856\n",
       "    nfev: 19\n",
       "     nit: 15\n",
       " success: True\n",
       "       x: 0.54192607725571351"
      ]
     },
     "execution_count": 9,
     "metadata": {},
     "output_type": "execute_result"
    }
   ],
   "source": [
    "optimize.minimize_scalar(f,bracket=(0.1,4))"
   ]
  },
  {
   "cell_type": "code",
   "execution_count": 12,
   "metadata": {},
   "outputs": [],
   "source": [
    "beta = (0.25,0.75,0.5)\n",
    "def f(x,b0,b1,b2):\n",
    "    return b0 + b1*np.exp(-b2*x**2)\n",
    "xdata = np. linspace(0,5,50)\n",
    "y = f(xdata,*beta)\n",
    "ydata = y + 0.05*np.random.randn(len(xdata))"
   ]
  },
  {
   "cell_type": "code",
   "execution_count": 15,
   "metadata": {},
   "outputs": [
    {
     "data": {
      "text/plain": [
       "[<matplotlib.lines.Line2D at 0x7f93a3e2a9b0>]"
      ]
     },
     "execution_count": 15,
     "metadata": {},
     "output_type": "execute_result"
    },
    {
     "data": {
      "image/png": "[encoded data removed]",
      "text/plain": [
       "<Figure size 432x288 with 1 Axes>"
      ]
     },
     "metadata": {
      "needs_background": "light"
     },
     "output_type": "display_data"
    }
   ],
   "source": [
    "plt.scatter(xdata,ydata)   #scatter将数据以散点的形式显示出来\n",
    "plt.plot(xdata,y)"
   ]
  },
  {
   "cell_type": "code",
   "execution_count": 16,
   "metadata": {},
   "outputs": [
    {
     "data": {
      "text/plain": [
       "array([ 0.25609175,  0.73218217,  0.47873941])"
      ]
     },
     "execution_count": 16,
     "metadata": {},
     "output_type": "execute_result"
    }
   ],
   "source": [
    "def g(beta):\n",
    "    return ydata - f(xdata,*beta)\n",
    "beta_start=(1,1,1)\n",
    "beta_opt,beta_cov=optimize.leastsq(g,beta_start)  #cov协方差矩阵\n",
    "beta_opt"
   ]
  },
  {
   "cell_type": "code",
   "execution_count": 17,
   "metadata": {
    "scrolled": true
   },
   "outputs": [
    {
     "data": {
      "text/plain": [
       "<matplotlib.legend.Legend at 0x7f93a3d46128>"
      ]
     },
     "execution_count": 17,
     "metadata": {},
     "output_type": "execute_result"
    },
    {
     "data": {
      "image/png": "[encoded data removed]",
      "text/plain": [
       "<Figure size 432x288 with 1 Axes>"
      ]
     },
     "metadata": {
      "needs_background": "light"
     },
     "output_type": "display_data"
    }
   ],
   "source": [
    "fig, ax = plt.subplots()\n",
    "ax.scatter(xdata, ydata, label='samples')\n",
    "ax.plot(xdata, y, 'r', lw=2, label='true model')\n",
    "ax.plot(xdata, f(xdata, *beta_opt), 'b', lw=2, label='fitted model')\n",
    "ax.set_xlim(0, 5)\n",
    "ax.set_xlabel(r\"$x$\", fontsize=18)\n",
    "ax.set_ylabel(r\"$f(x, \\beta)$\", fontsize=18)\n",
    "ax.legend()"
   ]
  },
  {
   "cell_type": "code",
   "execution_count": null,
   "metadata": {},
   "outputs": [],
   "source": []
  }
 ],
 "metadata": {
  "kernelspec": {
   "display_name": "Python 3",
   "language": "python",
   "name": "python3"
  },
  "language_info": {
   "codemirror_mode": {
    "name": "ipython",
    "version": 3
   },
   "file_extension": ".py",
   "mimetype": "text/x-python",
   "name": "python",
   "nbconvert_exporter": "python",
   "pygments_lexer": "ipython3",
   "version": "3.6.7"
  }
 },
 "nbformat": 4,
 "nbformat_minor": 2
}
